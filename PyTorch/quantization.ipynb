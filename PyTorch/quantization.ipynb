{
 "cells": [
  {
   "cell_type": "code",
   "execution_count": 39,
   "metadata": {},
   "outputs": [],
   "source": [
    "import os \n",
    "import glob\n",
    "import time\n",
    "import copy\n",
    "import random\n",
    "\n",
    "import torch\n",
    "import torchvision\n",
    "\n",
    "import torch.nn as nn\n",
    "from torch.utils.data import Dataset\n",
    "\n",
    "import numpy as np\n",
    "\n",
    "from PIL import Image\n",
    "\n",
    "from tqdm import tqdm"
   ]
  },
  {
   "cell_type": "code",
   "execution_count": 2,
   "metadata": {},
   "outputs": [],
   "source": [
    "class QDataset(Dataset):\n",
    "    def __init__(self, path, train=True):\n",
    "        self.data = []\n",
    "        \n",
    "        dirs = ['/Cat', '/Dog']\n",
    "        for cls, d in enumerate(dirs):\n",
    "            images = glob.glob(os.path.normpath(path) + d + '/*.jpg')\n",
    "            \n",
    "            if train:\n",
    "                for i in images[:10000]:\n",
    "                    if os.stat(i).st_size:\n",
    "                        self.data.append([i, cls])\n",
    "                    else:\n",
    "                        print(f'Error file: {i}')\n",
    "            else:\n",
    "                for i in images[10000:]:\n",
    "                    if os.stat(i).st_size:\n",
    "                        self.data.append([i, cls])\n",
    "                    else:\n",
    "                        print(f'Error file: {i}')\n",
    "        \n",
    "    def __getitem__(self, index):\n",
    "        img = Image.open(self.data[index][0]).convert('RGB')\n",
    "        img = torchvision.transforms.Resize(size=(100, 100))(img)\n",
    "        img = torchvision.transforms.ToTensor()(img)\n",
    "        \n",
    "        target = torch.eye(2)[self.data[index][1]]\n",
    "        return img, target\n",
    "    \n",
    "    def __len__(self):\n",
    "        return len(self.data)"
   ]
  },
  {
   "cell_type": "code",
   "execution_count": 3,
   "metadata": {},
   "outputs": [],
   "source": [
    "class Net(nn.Module):\n",
    "    def __init__(self, classes=2):\n",
    "        super().__init__()\n",
    "        \n",
    "        self.conv1 = torch.nn.Conv2d(3, 32, kernel_size=5)\n",
    "        self.conv2 = torch.nn.Conv2d(32, 64, 5)\n",
    "        \n",
    "        self.fc1 = torch.nn.Linear(22*22*64, 256)\n",
    "        self.fc2 = torch.nn.Linear(256, classes)\n",
    "        \n",
    "    def forward(self, x):\n",
    "        x = torch.nn.functional.relu(self.conv1(x))\n",
    "        x = torch.nn.functional.max_pool2d(x, (2, 2))\n",
    "        \n",
    "        x = torch.nn.functional.relu(self.conv2(x))\n",
    "        x = torch.nn.functional.max_pool2d(x, (2, 2))\n",
    "        \n",
    "        x = x.reshape(-1, 22*22*64) # flatter\n",
    "        x = torch.nn.functional.relu(self.fc1(x))\n",
    "        \n",
    "        x = self.fc2(x)\n",
    "        return torch.sigmoid(x)"
   ]
  },
  {
   "cell_type": "code",
   "execution_count": 4,
   "metadata": {},
   "outputs": [
    {
     "name": "stdout",
     "output_type": "stream",
     "text": [
      "Error file: /home/oleg/Desktop/PetImages/Cat/666.jpg\n",
      "Error file: /home/oleg/Desktop/PetImages/Dog/11702.jpg\n",
      "Error file: /home/oleg/Desktop/PetImages/Cat/666.jpg\n",
      "Error file: /home/oleg/Desktop/PetImages/Dog/11702.jpg\n"
     ]
    }
   ],
   "source": [
    "device = 'cuda' if torch.cuda.is_available() else 'cpu'\n",
    "lr = 0.000146\n",
    "classes = 2\n",
    "epochs = 3\n",
    "batch_size = 64\n",
    "labels = ['Cat', 'Dog']\n",
    "\n",
    "train_dataset = QDataset('/home/oleg/Desktop/PetImages')\n",
    "train_dataloader = torch.utils.data.DataLoader(train_dataset, batch_size=batch_size, num_workers=4, shuffle=True)\n",
    "\n",
    "test_dataset = QDataset('/home/oleg/Desktop/PetImages')\n",
    "test_dataloader = torch.utils.data.DataLoader(test_dataset, batch_size=batch_size, num_workers=4, shuffle=False)\n",
    "\n",
    "model = Net(classes).to(device)\n",
    "optimizer = torch.optim.Adam(model.parameters(), lr=lr)\n",
    "criterion = torch.nn.MSELoss()"
   ]
  },
  {
   "cell_type": "code",
   "execution_count": 5,
   "metadata": {},
   "outputs": [
    {
     "name": "stderr",
     "output_type": "stream",
     "text": [
      "Epoch: 1/3: 100%|██████████| 313/313 [00:15<00:00, 19.65it/s]\n",
      "Eval: 1/3:   0%|          | 0/313 [00:00<?, ?it/s]"
     ]
    },
    {
     "name": "stdout",
     "output_type": "stream",
     "text": [
      "Loss: 0.22612\n"
     ]
    },
    {
     "name": "stderr",
     "output_type": "stream",
     "text": [
      "Eval: 1/3: 100%|██████████| 313/313 [00:15<00:00, 20.85it/s]\n",
      "Epoch: 2/3:   0%|          | 0/313 [00:00<?, ?it/s]"
     ]
    },
    {
     "name": "stdout",
     "output_type": "stream",
     "text": [
      "Eval loss: 0.20047\n"
     ]
    },
    {
     "name": "stderr",
     "output_type": "stream",
     "text": [
      "Epoch: 2/3: 100%|██████████| 313/313 [00:14<00:00, 21.46it/s]\n",
      "Eval: 2/3:   0%|          | 0/313 [00:00<?, ?it/s]"
     ]
    },
    {
     "name": "stdout",
     "output_type": "stream",
     "text": [
      "Loss: 0.19127\n"
     ]
    },
    {
     "name": "stderr",
     "output_type": "stream",
     "text": [
      "Eval: 2/3: 100%|██████████| 313/313 [00:13<00:00, 22.76it/s]\n",
      "Epoch: 3/3:   0%|          | 0/313 [00:00<?, ?it/s]"
     ]
    },
    {
     "name": "stdout",
     "output_type": "stream",
     "text": [
      "Eval loss: 0.17295\n"
     ]
    },
    {
     "name": "stderr",
     "output_type": "stream",
     "text": [
      "Epoch: 3/3: 100%|██████████| 313/313 [00:14<00:00, 21.94it/s]\n",
      "Eval: 3/3:   0%|          | 0/313 [00:00<?, ?it/s]"
     ]
    },
    {
     "name": "stdout",
     "output_type": "stream",
     "text": [
      "Loss: 0.16827\n"
     ]
    },
    {
     "name": "stderr",
     "output_type": "stream",
     "text": [
      "Eval: 3/3: 100%|██████████| 313/313 [00:14<00:00, 22.25it/s]"
     ]
    },
    {
     "name": "stdout",
     "output_type": "stream",
     "text": [
      "Eval loss: 0.15697\n"
     ]
    },
    {
     "name": "stderr",
     "output_type": "stream",
     "text": [
      "\n"
     ]
    }
   ],
   "source": [
    "for e in range(epochs):\n",
    "    model.train()\n",
    "    sum_loss = 0\n",
    "    \n",
    "    for imgs, targets in tqdm(train_dataloader, desc=f'Epoch: {e+1}/{epochs}'): \n",
    "        imgs = imgs.to(device)\n",
    "        targets = targets.to(device)\n",
    "        \n",
    "        optimizer.zero_grad()\n",
    "        output = model(imgs)\n",
    "        \n",
    "        loss = criterion(output, targets)\n",
    "        sum_loss += loss.item()\n",
    "        \n",
    "        loss.backward()\n",
    "        optimizer.step()\n",
    "        \n",
    "    print(f'Loss: {round(sum_loss / len(train_dataloader), 5)}')\n",
    "    \n",
    "    model.eval()\n",
    "    sum_loss = 0\n",
    "    \n",
    "    for imgs, targets in tqdm(test_dataloader, desc=f'Eval: {e+1}/{epochs}'):\n",
    "        with torch.no_grad():\n",
    "            imgs = imgs.to(device)\n",
    "            targets = targets.to(device)\n",
    "        \n",
    "            optimizer.zero_grad()\n",
    "            output = model(imgs)\n",
    "        \n",
    "            loss = criterion(output, targets)\n",
    "            sum_loss += loss.item()\n",
    "            \n",
    "    print(f'Eval loss: {round(sum_loss / len(test_dataloader), 5)}')"
   ]
  },
  {
   "cell_type": "code",
   "execution_count": 6,
   "metadata": {},
   "outputs": [],
   "source": [
    "def print_size_of_model(model):\n",
    "    torch.save(model.state_dict(), \"temp.p\")\n",
    "    print('Size (MB):', os.path.getsize(\"temp.p\")/1e6)\n",
    "    os.remove('temp.p')"
   ]
  },
  {
   "cell_type": "code",
   "execution_count": 13,
   "metadata": {},
   "outputs": [],
   "source": [
    "model = model.eval()\n",
    "q_model = copy.deepcopy(model)\n",
    "q_model = q_model.cpu()"
   ]
  },
  {
   "cell_type": "code",
   "execution_count": 14,
   "metadata": {},
   "outputs": [],
   "source": [
    "q_model.qconfig = torch.quantization.default_qconfig\n",
    "torch.quantization.prepare(q_model, inplace=True)\n",
    "torch.quantization.convert(q_model, inplace=True)\n",
    "q_model = q_model.eval()"
   ]
  },
  {
   "cell_type": "code",
   "execution_count": 15,
   "metadata": {},
   "outputs": [
    {
     "name": "stdout",
     "output_type": "stream",
     "text": [
      "Size (MB): 31.938558\n",
      "Size (MB): 7.987776\n"
     ]
    }
   ],
   "source": [
    "print_size_of_model(model)\n",
    "print_size_of_model(q_model)"
   ]
  },
  {
   "cell_type": "code",
   "execution_count": 16,
   "metadata": {},
   "outputs": [],
   "source": [
    "torch.save(model.state_dict(), \"model.pt\")\n",
    "torch.save(q_model.state_dict(), \"q_model.pt\")"
   ]
  },
  {
   "cell_type": "code",
   "execution_count": 17,
   "metadata": {},
   "outputs": [],
   "source": [
    "def calculate_metrics(pr, gt, classes, as_dics=False):\n",
    "    \"\"\"\n",
    "    pr - predicted array from NN. Shape - [batch_size, classes]\n",
    "    gt - groud truth array. Shape - [batch_size, classes]\n",
    "    \"\"\"\n",
    "    confusion_matrix = torch.zeros((classes, classes), dtype=torch.long)\n",
    "    \n",
    "    for pr_i, gt_i in zip(pr, gt):\n",
    "        predict = torch.argmax(pr_i)\n",
    "        real = torch.argmax(gt_i)\n",
    "\n",
    "        confusion_matrix[real, predict] += 1\n",
    "    \n",
    "    # accuracy\n",
    "    tp = torch.zeros((1), dtype=torch.float32)\n",
    "    fp = torch.zeros((1), dtype=torch.float32)\n",
    "    for i in range(confusion_matrix.shape[0]):  # actual \n",
    "        for j in range(confusion_matrix.shape[1]):  # predict\n",
    "            if i == j:   \n",
    "                tp += confusion_matrix[i, j]\n",
    "            else:\n",
    "                fp += confusion_matrix[i, j]\n",
    "    accuracy = (tp / (tp + fp))\n",
    "    accuracy[torch.isnan(accuracy)] = 0\n",
    "    \n",
    "    # precision per class\n",
    "    precision = torch.zeros(confusion_matrix.shape[0], dtype=torch.float32)\n",
    "    for cls in range(confusion_matrix.shape[0]):\n",
    "        c = confusion_matrix[cls, cls].float()\n",
    "        s = confusion_matrix[:, cls].sum().float()\n",
    "        if s > 0:\n",
    "            precision[cls] = c / s\n",
    "        else:\n",
    "            precision[cls] = 0\n",
    "    precision[torch.isnan(precision)] = 0\n",
    "        \n",
    "    # recall\n",
    "    recall = torch.zeros(confusion_matrix.shape[0], dtype=torch.float32)\n",
    "    for cls in range(confusion_matrix.shape[1]):\n",
    "        c = confusion_matrix[cls, cls].float()\n",
    "        s = confusion_matrix[cls, :].sum().float()\n",
    "        if s > 0:\n",
    "            recall[cls] = c / s\n",
    "        else:\n",
    "            recall[cls] = 0\n",
    "    recall[torch.isnan(recall)] = 0\n",
    "    \n",
    "    # f1 score per class\n",
    "    f1_score = 2 * ((precision * recall) / (precision + recall))\n",
    "    f1_score[torch.isnan(f1_score)] = 0\n",
    "    \n",
    "    macro_precision = precision.sum() / precision.shape[0]\n",
    "    macro_recall = recall.sum() / recall.shape[0]\n",
    "    macro_f1_score = f1_score.sum() / f1_score.shape[0]\n",
    "    \n",
    "    if as_dics:\n",
    "        return {'confusion_matrix': confusion_matrix,\n",
    "                'accuracy': accuracy,\n",
    "                'precision': precision, \n",
    "                'recall': recall,\n",
    "                'f1_score': f1_score,\n",
    "                'macro_precision': macro_precision,\n",
    "                'macro_recall': macro_recall, \n",
    "                'macro_f1_score': macro_f1_score}\n",
    "    else:\n",
    "        return confusion_matrix, accuracy, precision, recall, f1_score, macro_precision, macro_recall, macro_f1_score\n",
    "\n",
    "# calculate_metrics(torch.tensor([[0.24, 0.91], [0.24, 0.1], [0.03, 0.33], [0.01, 1]]), \n",
    "#                   torch.tensor([[0, 1], [1, 0], [1, 0], [1, 0]]), 2, False)"
   ]
  },
  {
   "cell_type": "code",
   "execution_count": 29,
   "metadata": {},
   "outputs": [
    {
     "name": "stderr",
     "output_type": "stream",
     "text": [
      "Final eval: 100%|██████████| 313/313 [00:14<00:00, 21.17it/s]\n"
     ]
    },
    {
     "data": {
      "text/plain": [
       "{'confusion_matrix': tensor([[8651, 1348],\n",
       "         [3096, 6903]]),\n",
       " 'accuracy': tensor([0.7778]),\n",
       " 'precision': tensor([0.7364, 0.8366]),\n",
       " 'recall': tensor([0.8652, 0.6904]),\n",
       " 'f1_score': tensor([0.7956, 0.7565]),\n",
       " 'macro_precision': tensor(0.7865),\n",
       " 'macro_recall': tensor(0.7778),\n",
       " 'macro_f1_score': tensor(0.7761)}"
      ]
     },
     "execution_count": 29,
     "metadata": {},
     "output_type": "execute_result"
    }
   ],
   "source": [
    "pr = []\n",
    "gt = []\n",
    "\n",
    "for imgs, targets in tqdm(test_dataloader, desc=f'Final eval'):\n",
    "    with torch.no_grad():\n",
    "        imgs = imgs.to(device)\n",
    "        targets = targets.to(device)\n",
    "\n",
    "        output = model(imgs)\n",
    "        for pr_i, gt_i in zip(output, targets):\n",
    "            pr.append(pr_i)\n",
    "            gt.append(gt_i)\n",
    "\n",
    "model_metrics = calculate_metrics(pr, gt, classes, True)\n",
    "model_metrics"
   ]
  },
  {
   "cell_type": "code",
   "execution_count": 30,
   "metadata": {},
   "outputs": [
    {
     "name": "stderr",
     "output_type": "stream",
     "text": [
      "Final eval (quantized): 100%|██████████| 313/313 [01:01<00:00,  5.08it/s]\n"
     ]
    },
    {
     "data": {
      "text/plain": [
       "{'confusion_matrix': tensor([[6845, 3154],\n",
       "         [3885, 6114]]),\n",
       " 'accuracy': tensor([0.6480]),\n",
       " 'precision': tensor([0.6379, 0.6597]),\n",
       " 'recall': tensor([0.6846, 0.6115]),\n",
       " 'f1_score': tensor([0.6604, 0.6347]),\n",
       " 'macro_precision': tensor(0.6488),\n",
       " 'macro_recall': tensor(0.6480),\n",
       " 'macro_f1_score': tensor(0.6475)}"
      ]
     },
     "execution_count": 30,
     "metadata": {},
     "output_type": "execute_result"
    }
   ],
   "source": [
    "pr = []\n",
    "gt = []\n",
    "scale, zero_point = 1.0, 0\n",
    "dtype = torch.quint8\n",
    "\n",
    "for imgs, targets in tqdm(test_dataloader, desc=f'Final eval (quantized)'):\n",
    "    with torch.no_grad():\n",
    "        q_imgs = torch.quantize_per_tensor(imgs, scale, zero_point, dtype)\n",
    "        targets = targets.to(device)\n",
    "\n",
    "        output = q_model(q_imgs)\n",
    "        for pr_i, gt_i in zip(output.dequantize(), targets):\n",
    "            pr.append(pr_i)\n",
    "            gt.append(gt_i)\n",
    "\n",
    "q_model_metrics = calculate_metrics(pr, gt, classes, True)\n",
    "q_model_metrics"
   ]
  },
  {
   "cell_type": "code",
   "execution_count": 71,
   "metadata": {},
   "outputs": [
    {
     "name": "stdout",
     "output_type": "stream",
     "text": [
      "tensor([[0.8194, 0.1682]], device='cuda:0', grad_fn=<SigmoidBackward>)\n",
      "0.0008335113525390625 1199.7437070938215\n",
      "Cat\n"
     ]
    },
    {
     "data": {
      "image/png": "[encoded data removed]",
      "text/plain": [
       "<PIL.Image.Image image mode=RGB size=100x100 at 0x7F2DDB34E310>"
      ]
     },
     "execution_count": 71,
     "metadata": {},
     "output_type": "execute_result"
    }
   ],
   "source": [
    "test_i = random.randint(0, len(test_dataset))\n",
    "\n",
    "img, target = test_dataset[test_i]\n",
    "\n",
    "img = img.to(device)\n",
    "\n",
    "s = time.time()\n",
    "res = model(img.unsqueeze(0))\n",
    "rt = time.time() - s\n",
    "\n",
    "print(res)\n",
    "print(rt, 1/rt)\n",
    "print(labels[torch.argmax(res)])\n",
    "torchvision.transforms.ToPILImage()(img.cpu())"
   ]
  },
  {
   "cell_type": "code",
   "execution_count": 72,
   "metadata": {},
   "outputs": [
    {
     "name": "stdout",
     "output_type": "stream",
     "text": [
      "tensor([[0.9961, 0.5000]])\n",
      "0.024718761444091797 40.455101371554235\n",
      "Cat\n"
     ]
    },
    {
     "data": {
      "image/png": "[encoded data removed]",
      "text/plain": [
       "<PIL.Image.Image image mode=RGB size=100x100 at 0x7F2DECEB20D0>"
      ]
     },
     "execution_count": 72,
     "metadata": {},
     "output_type": "execute_result"
    }
   ],
   "source": [
    "img, target = test_dataset[test_i]\n",
    "\n",
    "scale, zero_point = 1.0, 0\n",
    "dtype = torch.quint8\n",
    "q_img = torch.quantize_per_tensor(img, scale, zero_point, dtype)\n",
    "\n",
    "s = time.time()\n",
    "res = q_model(q_img.unsqueeze(0))\n",
    "rt = time.time() - s\n",
    "\n",
    "res = res.dequantize()\n",
    "\n",
    "print(res)\n",
    "print(rt, 1/rt)\n",
    "print(labels[torch.argmax(res)])\n",
    "torchvision.transforms.ToPILImage()(q_img.dequantize())"
   ]
  }
 ],
 "metadata": {
  "kernelspec": {
   "display_name": "Python 3",
   "language": "python",
   "name": "python3"
  },
  "language_info": {
   "codemirror_mode": {
    "name": "ipython",
    "version": 3
   },
   "file_extension": ".py",
   "mimetype": "text/x-python",
   "name": "python",
   "nbconvert_exporter": "python",
   "pygments_lexer": "ipython3",
   "version": "3.8.2"
  }
 },
 "nbformat": 4,
 "nbformat_minor": 4
}

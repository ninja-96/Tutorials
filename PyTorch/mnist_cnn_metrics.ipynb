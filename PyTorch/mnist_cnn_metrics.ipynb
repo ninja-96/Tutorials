{
 "cells": [
  {
   "cell_type": "markdown",
   "metadata": {},
   "source": [
    "# Calculate metrics: accuracy, recision, recall"
   ]
  },
  {
   "cell_type": "code",
   "execution_count": 1,
   "metadata": {},
   "outputs": [],
   "source": [
    "import time\n",
    "import copy\n",
    "import random\n",
    "\n",
    "import torch\n",
    "import torchvision\n",
    "import numpy as np\n",
    "\n",
    "from tqdm import tqdm\n",
    "import matplotlib.pyplot as plt"
   ]
  },
  {
   "cell_type": "markdown",
   "metadata": {},
   "source": [
    "# Parameters"
   ]
  },
  {
   "cell_type": "code",
   "execution_count": 2,
   "metadata": {},
   "outputs": [],
   "source": [
    "EPOCHS = 15\n",
    "BATCH_SIZE = 8\n",
    "LR = 0.0001\n",
    "\n",
    "if torch.cuda.is_available():\n",
    "    TARGET = 'cuda'\n",
    "else:\n",
    "    TARGET = 'cpu'"
   ]
  },
  {
   "cell_type": "markdown",
   "metadata": {},
   "source": [
    "# Load train and test MNIST datasets"
   ]
  },
  {
   "cell_type": "code",
   "execution_count": 3,
   "metadata": {},
   "outputs": [],
   "source": [
    "train = torchvision.datasets.MNIST('', train=True, download=True,\n",
    "                       transform=torchvision.transforms.Compose([\n",
    "                           torchvision.transforms.ToTensor()\n",
    "                       ]))\n",
    "\n",
    "test = torchvision.datasets.MNIST('', train=False, download=True,\n",
    "                       transform=torchvision.transforms.Compose([\n",
    "                           torchvision.transforms.ToTensor()\n",
    "                       ]))\n",
    "\n",
    "train_dataloader = torch.utils.data.DataLoader(train, batch_size=BATCH_SIZE, num_workers=4, shuffle=True)"
   ]
  },
  {
   "cell_type": "markdown",
   "metadata": {},
   "source": [
    "# CNN (input - [batch_size, 1, 28, 28], output [batch_size, 10])"
   ]
  },
  {
   "cell_type": "code",
   "execution_count": 4,
   "metadata": {},
   "outputs": [
    {
     "name": "stdout",
     "output_type": "stream",
     "text": [
      "Net(\n",
      "  (conv1): Conv2d(1, 32, kernel_size=(5, 5), stride=(1, 1))\n",
      "  (conv2): Conv2d(32, 64, kernel_size=(5, 5), stride=(1, 1))\n",
      "  (fc1): Linear(in_features=1024, out_features=64, bias=True)\n",
      "  (fc2): Linear(in_features=64, out_features=10, bias=True)\n",
      ")\n"
     ]
    }
   ],
   "source": [
    "class Net(torch.nn.Module):\n",
    "    def __init__(self):\n",
    "        super().__init__()\n",
    "        \n",
    "        self.conv1 = torch.nn.Conv2d(in_channels=1, out_channels=32, kernel_size=5)\n",
    "        self.conv2 = torch.nn.Conv2d(32, 64, 5)\n",
    "        \n",
    "        self.fc1 = torch.nn.Linear(4*4*64, 64)\n",
    "        self.fc2 = torch.nn.Linear(64, 10)\n",
    "        \n",
    "    def forward(self, x):\n",
    "        x = torch.nn.functional.relu(self.conv1(x))\n",
    "        x = torch.nn.functional.max_pool2d(x, (2, 2))\n",
    "        \n",
    "        x = torch.nn.functional.relu(self.conv2(x))\n",
    "        x = torch.nn.functional.max_pool2d(x, (2, 2))\n",
    "        \n",
    "        x = x.view(-1, 4*4*64) # flattrern\n",
    "        x = torch.nn.functional.relu(self.fc1(x))\n",
    "        \n",
    "        x = self.fc2(x)\n",
    "        return torch.sigmoid(x)\n",
    "    \n",
    "print(Net())"
   ]
  },
  {
   "cell_type": "markdown",
   "metadata": {},
   "source": [
    "# CNN train"
   ]
  },
  {
   "cell_type": "code",
   "execution_count": 5,
   "metadata": {},
   "outputs": [
    {
     "name": "stderr",
     "output_type": "stream",
     "text": [
      "Epoch: 1/15: 100%|██████████| 7500/7500 [00:26<00:00, 285.71it/s]\n"
     ]
    },
    {
     "name": "stdout",
     "output_type": "stream",
     "text": [
      "Loss 0.3232976496219635\n"
     ]
    },
    {
     "name": "stderr",
     "output_type": "stream",
     "text": [
      "Epoch: 2/15: 100%|██████████| 7500/7500 [00:26<00:00, 283.01it/s]\n"
     ]
    },
    {
     "name": "stdout",
     "output_type": "stream",
     "text": [
      "Loss 0.23575036227703094\n"
     ]
    },
    {
     "name": "stderr",
     "output_type": "stream",
     "text": [
      "Epoch: 3/15: 100%|██████████| 7500/7500 [00:26<00:00, 284.10it/s]\n"
     ]
    },
    {
     "name": "stdout",
     "output_type": "stream",
     "text": [
      "Loss 0.11476599425077438\n"
     ]
    },
    {
     "name": "stderr",
     "output_type": "stream",
     "text": [
      "Epoch: 4/15: 100%|██████████| 7500/7500 [00:26<00:00, 284.34it/s]\n"
     ]
    },
    {
     "name": "stdout",
     "output_type": "stream",
     "text": [
      "Loss 0.06303590536117554\n"
     ]
    },
    {
     "name": "stderr",
     "output_type": "stream",
     "text": [
      "Epoch: 5/15: 100%|██████████| 7500/7500 [00:26<00:00, 285.25it/s]\n"
     ]
    },
    {
     "name": "stdout",
     "output_type": "stream",
     "text": [
      "Loss 0.020465288311243057\n"
     ]
    },
    {
     "name": "stderr",
     "output_type": "stream",
     "text": [
      "Epoch: 6/15: 100%|██████████| 7500/7500 [00:26<00:00, 283.24it/s]\n"
     ]
    },
    {
     "name": "stdout",
     "output_type": "stream",
     "text": [
      "Loss 0.05997247248888016\n"
     ]
    },
    {
     "name": "stderr",
     "output_type": "stream",
     "text": [
      "Epoch: 7/15: 100%|██████████| 7500/7500 [00:26<00:00, 281.32it/s]\n"
     ]
    },
    {
     "name": "stdout",
     "output_type": "stream",
     "text": [
      "Loss 0.05877641960978508\n"
     ]
    },
    {
     "name": "stderr",
     "output_type": "stream",
     "text": [
      "Epoch: 8/15: 100%|██████████| 7500/7500 [00:26<00:00, 280.81it/s]\n"
     ]
    },
    {
     "name": "stdout",
     "output_type": "stream",
     "text": [
      "Loss 0.05183357745409012\n"
     ]
    },
    {
     "name": "stderr",
     "output_type": "stream",
     "text": [
      "Epoch: 9/15: 100%|██████████| 7500/7500 [00:26<00:00, 282.70it/s]\n"
     ]
    },
    {
     "name": "stdout",
     "output_type": "stream",
     "text": [
      "Loss 0.005289566237479448\n"
     ]
    },
    {
     "name": "stderr",
     "output_type": "stream",
     "text": [
      "Epoch: 10/15: 100%|██████████| 7500/7500 [00:26<00:00, 282.43it/s]\n"
     ]
    },
    {
     "name": "stdout",
     "output_type": "stream",
     "text": [
      "Loss 0.024102825671434402\n"
     ]
    },
    {
     "name": "stderr",
     "output_type": "stream",
     "text": [
      "Epoch: 11/15: 100%|██████████| 7500/7500 [00:26<00:00, 279.97it/s]\n"
     ]
    },
    {
     "name": "stdout",
     "output_type": "stream",
     "text": [
      "Loss 0.009881634265184402\n"
     ]
    },
    {
     "name": "stderr",
     "output_type": "stream",
     "text": [
      "Epoch: 12/15: 100%|██████████| 7500/7500 [00:26<00:00, 283.82it/s]\n"
     ]
    },
    {
     "name": "stdout",
     "output_type": "stream",
     "text": [
      "Loss 0.011156990192830563\n"
     ]
    },
    {
     "name": "stderr",
     "output_type": "stream",
     "text": [
      "Epoch: 13/15: 100%|██████████| 7500/7500 [00:26<00:00, 284.73it/s]\n"
     ]
    },
    {
     "name": "stdout",
     "output_type": "stream",
     "text": [
      "Loss 0.017534267157316208\n"
     ]
    },
    {
     "name": "stderr",
     "output_type": "stream",
     "text": [
      "Epoch: 14/15: 100%|██████████| 7500/7500 [00:26<00:00, 278.08it/s]\n"
     ]
    },
    {
     "name": "stdout",
     "output_type": "stream",
     "text": [
      "Loss 0.007016581483185291\n"
     ]
    },
    {
     "name": "stderr",
     "output_type": "stream",
     "text": [
      "Epoch: 15/15: 100%|██████████| 7500/7500 [00:26<00:00, 284.12it/s]\n"
     ]
    },
    {
     "name": "stdout",
     "output_type": "stream",
     "text": [
      "Loss 0.006232151295989752\n",
      "Best loss 0.005289566237479448\n"
     ]
    }
   ],
   "source": [
    "net = Net().to(TARGET)\n",
    "optimizer = torch.optim.Adam(net.parameters(), lr=LR)\n",
    "bce_loss = torch.nn.BCELoss()\n",
    "\n",
    "best_net = Net().to(TARGET)\n",
    "best_loss = torch.tensor(10e10)\n",
    "\n",
    "for epoch in range(EPOCHS):\n",
    "    time.sleep(1)\n",
    "    loss = 0\n",
    "    \n",
    "    desc = f'Epoch: {epoch+1}/{EPOCHS}'\n",
    "    \n",
    "    for data in tqdm(train_dataloader, desc=desc): \n",
    "        x_train, y_train = data\n",
    "        x_train /= 255.0\n",
    "        \n",
    "        x_train = x_train.to(TARGET)\n",
    "        y_train = y_train.to(TARGET)\n",
    "    \n",
    "        net.zero_grad() \n",
    "        output = net(x_train)\n",
    "        \n",
    "        y_train_ans = torch.zeros(output.size()).float().to(TARGET)\n",
    "        for i in range(y_train.size()[0]):\n",
    "            y_train_ans[i, y_train[i]] = 1\n",
    "        \n",
    "        loss = bce_loss(output, y_train_ans)\n",
    "        \n",
    "        loss.backward()\n",
    "        optimizer.step()\n",
    "    \n",
    "    print('Loss', loss.item())\n",
    "    \n",
    "    if loss < best_loss:\n",
    "        best_net = copy.deepcopy(net)\n",
    "        best_loss = loss\n",
    "\n",
    "time.sleep(0.1)\n",
    "print('Best loss', best_loss.item())"
   ]
  },
  {
   "cell_type": "code",
   "execution_count": 6,
   "metadata": {},
   "outputs": [
    {
     "name": "stdout",
     "output_type": "stream",
     "text": [
      "Item 1324\n",
      "Predict 8\n",
      "Real 8\n"
     ]
    },
    {
     "data": {
      "image/png": "[encoded data removed]",
      "text/plain": [
       "<Figure size 432x288 with 1 Axes>"
      ]
     },
     "metadata": {
      "needs_background": "light"
     },
     "output_type": "display_data"
    }
   ],
   "source": [
    "i = random.randint(0, len(test))\n",
    "print('Item', i)\n",
    "\n",
    "net_result = best_net(test[i][0].unsqueeze(0).to(TARGET))\n",
    "real = test[i][1]\n",
    "\n",
    "print('Predict', np.argmax(net_result.cpu().detach().numpy()))\n",
    "print('Real', real)\n",
    "\n",
    "plt.imshow(test[i][0].view(28,28))\n",
    "plt.show()"
   ]
  },
  {
   "cell_type": "markdown",
   "metadata": {},
   "source": [
    "# Confusion matrix"
   ]
  },
  {
   "cell_type": "code",
   "execution_count": 7,
   "metadata": {},
   "outputs": [],
   "source": [
    "confusion_matrix = torch.zeros((10, 10), dtype=torch.long)"
   ]
  },
  {
   "cell_type": "code",
   "execution_count": 8,
   "metadata": {},
   "outputs": [
    {
     "name": "stderr",
     "output_type": "stream",
     "text": [
      "100%|██████████| 10000/10000 [00:07<00:00, 1339.38it/s]\n"
     ]
    }
   ],
   "source": [
    "for i in tqdm(range(len(test))):\n",
    "    img = test[i][0]\n",
    "    result = best_net(img.unsqueeze(0).to(TARGET))[0]\n",
    "    predict = np.argmax(result.cpu().detach().numpy())\n",
    "    \n",
    "    real = test[i][1]\n",
    "    \n",
    "    confusion_matrix[real, predict] += 1"
   ]
  },
  {
   "cell_type": "code",
   "execution_count": 9,
   "metadata": {},
   "outputs": [
    {
     "data": {
      "text/plain": [
       "tensor([[ 978,    0,    0,    0,    0,    0,    1,    1,    0,    0],\n",
       "        [   0, 1132,    2,    0,    0,    1,    0,    0,    0,    0],\n",
       "        [  16,   25,  977,    3,    1,    1,    3,    4,    2,    0],\n",
       "        [  22,   60,   10,  888,    1,    9,    0,   13,    6,    1],\n",
       "        [   6,   34,    5,    0,  923,    0,    5,    1,    0,    8],\n",
       "        [  27,   46,    1,   15,    8,  772,   21,    1,    1,    0],\n",
       "        [  30,   25,    4,    0,   17,    2,  880,    0,    0,    0],\n",
       "        [   7,   44,   33,    1,    7,    3,    0,  928,    0,    5],\n",
       "        [  70,   55,    8,    9,   20,    3,   21,   21,  758,    9],\n",
       "        [  24,   32,    0,    7,   87,    8,    0,   48,    0,  803]])"
      ]
     },
     "execution_count": 9,
     "metadata": {},
     "output_type": "execute_result"
    }
   ],
   "source": [
    "confusion_matrix"
   ]
  },
  {
   "cell_type": "markdown",
   "metadata": {},
   "source": [
    "# Accuracy"
   ]
  },
  {
   "cell_type": "code",
   "execution_count": 10,
   "metadata": {},
   "outputs": [
    {
     "name": "stdout",
     "output_type": "stream",
     "text": [
      "Accuracy: 0.9039000272750854\n"
     ]
    }
   ],
   "source": [
    "tp = torch.zeros((1), dtype=torch.float32)\n",
    "fp = torch.zeros((1), dtype=torch.float32)\n",
    "\n",
    "for i in range(confusion_matrix.shape[0]):  # actual \n",
    "    for j in range(confusion_matrix.shape[1]):  # predict\n",
    "        if i == j:   \n",
    "            tp += confusion_matrix[i, j]\n",
    "        else:\n",
    "            fp += confusion_matrix[i, j]\n",
    "            \n",
    "accuracy = (tp / (tp + fp))\n",
    "print(f'Accuracy: {accuracy.item()}')"
   ]
  },
  {
   "cell_type": "markdown",
   "metadata": {},
   "source": [
    "# Precision"
   ]
  },
  {
   "cell_type": "code",
   "execution_count": 19,
   "metadata": {},
   "outputs": [
    {
     "name": "stdout",
     "output_type": "stream",
     "text": [
      "Precision. Class 0: 0.8288135528564453\n",
      "Precision. Class 1: 0.7790777683258057\n",
      "Precision. Class 2: 0.9394230842590332\n",
      "Precision. Class 3: 0.962080180644989\n",
      "Precision. Class 4: 0.8674812316894531\n",
      "Precision. Class 5: 0.96620774269104\n",
      "Precision. Class 6: 0.9452201724052429\n",
      "Precision. Class 7: 0.9124876856803894\n",
      "Precision. Class 8: 0.9882659912109375\n",
      "Precision. Class 9: 0.972154974937439\n"
     ]
    }
   ],
   "source": [
    "precision = torch.zeros(confusion_matrix.shape[0], dtype=torch.float32)\n",
    "\n",
    "for cls in range(confusion_matrix.shape[0]):\n",
    "    c = confusion_matrix[cls, cls].float()\n",
    "    s = confusion_matrix[:, cls].sum().float()\n",
    "    \n",
    "    precision[cls] = c / s\n",
    "\n",
    "for cls in range(precision.shape[0]):\n",
    "    print(f'Precision. Class {cls}: {precision[cls]}')"
   ]
  },
  {
   "cell_type": "markdown",
   "metadata": {},
   "source": [
    "# Macro precision"
   ]
  },
  {
   "cell_type": "code",
   "execution_count": 12,
   "metadata": {},
   "outputs": [
    {
     "name": "stdout",
     "output_type": "stream",
     "text": [
      "Macro precision: 0.9161211252212524\n"
     ]
    }
   ],
   "source": [
    "macro_precision = precision.sum() / precision.shape[0]\n",
    "print(f'Macro precision: {macro_precision.item()}')"
   ]
  },
  {
   "cell_type": "markdown",
   "metadata": {},
   "source": [
    "# Recall"
   ]
  },
  {
   "cell_type": "code",
   "execution_count": 13,
   "metadata": {},
   "outputs": [
    {
     "name": "stdout",
     "output_type": "stream",
     "text": [
      "Recall. Class 0: 0.9979591965675354\n",
      "Recall. Class 1: 0.9973568320274353\n",
      "Recall. Class 2: 0.9467054009437561\n",
      "Recall. Class 3: 0.8792079091072083\n",
      "Recall. Class 4: 0.9399185180664062\n",
      "Recall. Class 5: 0.865470826625824\n",
      "Recall. Class 6: 0.9185803532600403\n",
      "Recall. Class 7: 0.9027237296104431\n",
      "Recall. Class 8: 0.77823406457901\n",
      "Recall. Class 9: 0.7958374619483948\n"
     ]
    }
   ],
   "source": [
    "recall = torch.zeros(confusion_matrix.shape[0], dtype=torch.float32)\n",
    "\n",
    "for cls in range(confusion_matrix.shape[1]):\n",
    "    c = confusion_matrix[cls, cls].float()\n",
    "    s = confusion_matrix[cls, :].sum().float()\n",
    "    \n",
    "    recall[cls] = c / s\n",
    "\n",
    "for cls in range(recall.shape[0]):\n",
    "    print(f'Recall. Class {cls}: {recall[cls]}')"
   ]
  },
  {
   "cell_type": "markdown",
   "metadata": {},
   "source": [
    "# Macro recall"
   ]
  },
  {
   "cell_type": "code",
   "execution_count": 14,
   "metadata": {},
   "outputs": [
    {
     "name": "stdout",
     "output_type": "stream",
     "text": [
      "Macro recall: 0.9021994471549988\n"
     ]
    }
   ],
   "source": [
    "macro_recall = recall.sum() / recall.shape[0]\n",
    "print(f'Macro recall: {macro_recall.item()}')"
   ]
  },
  {
   "cell_type": "markdown",
   "metadata": {},
   "source": [
    "# F1 score"
   ]
  },
  {
   "cell_type": "code",
   "execution_count": 15,
   "metadata": {},
   "outputs": [
    {
     "name": "stdout",
     "output_type": "stream",
     "text": [
      "F1 score. Class 0: 0.9055555462837219\n",
      "F1 score. Class 1: 0.8748067617416382\n",
      "F1 score. Class 2: 0.94305020570755\n",
      "F1 score. Class 3: 0.9187791347503662\n",
      "F1 score. Class 4: 0.9022483229637146\n",
      "F1 score. Class 5: 0.9130691289901733\n",
      "F1 score. Class 6: 0.931709885597229\n",
      "F1 score. Class 7: 0.9075794219970703\n",
      "F1 score. Class 8: 0.8707639575004578\n",
      "F1 score. Class 9: 0.87520432472229\n"
     ]
    }
   ],
   "source": [
    "f1_score = 2 * ((precision * recall) / (precision + recall))\n",
    "\n",
    "for cls in range(f1_score.shape[0]):\n",
    "    print(f'F1 score. Class {cls}: {f1_score[cls]}')"
   ]
  },
  {
   "cell_type": "markdown",
   "metadata": {},
   "source": [
    "# Macro F1 score"
   ]
  },
  {
   "cell_type": "code",
   "execution_count": 16,
   "metadata": {},
   "outputs": [
    {
     "name": "stdout",
     "output_type": "stream",
     "text": [
      "Macro F1 score: 0.9042766690254211\n"
     ]
    }
   ],
   "source": [
    "macro_f1_score = f1_score.sum() / f1_score.shape[0]\n",
    "print(f'Macro F1 score: {macro_f1_score.item()}')"
   ]
  },
  {
   "cell_type": "markdown",
   "metadata": {},
   "source": [
    "# Weighted precision"
   ]
  },
  {
   "cell_type": "code",
   "execution_count": 23,
   "metadata": {},
   "outputs": [
    {
     "name": "stdout",
     "output_type": "stream",
     "text": [
      "Weighted precision: 0.82195645570755\n"
     ]
    }
   ],
   "source": [
    "weighted_precision = torch.zeros((1), dtype=torch.float32)\n",
    "\n",
    "for cls in range(precision.shape[0]):\n",
    "    weighted_precision += precision[cls] * confusion_matrix[cls, cls].float()\n",
    "    \n",
    "weighted_precision /= confusion_matrix.sum()\n",
    "print(f'Weighted precision: {weighted_precision.item()}')"
   ]
  },
  {
   "cell_type": "markdown",
   "metadata": {},
   "source": [
    "# Weighted recall"
   ]
  },
  {
   "cell_type": "code",
   "execution_count": 24,
   "metadata": {},
   "outputs": [
    {
     "name": "stdout",
     "output_type": "stream",
     "text": [
      "Weighted recall: 0.8221405148506165\n"
     ]
    }
   ],
   "source": [
    "weighted_recall = torch.zeros((1), dtype=torch.float32)\n",
    "\n",
    "for cls in range(recall.shape[0]):\n",
    "    weighted_recall += recall[cls] * confusion_matrix[cls, cls].float()\n",
    "    \n",
    "weighted_recall /= confusion_matrix.sum()\n",
    "print(f'Weighted recall: {weighted_recall.item()}')"
   ]
  },
  {
   "cell_type": "markdown",
   "metadata": {},
   "source": [
    "# Weighted F1 score"
   ]
  },
  {
   "cell_type": "code",
   "execution_count": 21,
   "metadata": {},
   "outputs": [
    {
     "name": "stdout",
     "output_type": "stream",
     "text": [
      "Weighted F1 score: 0.8175781965255737\n"
     ]
    }
   ],
   "source": [
    "weighted_f1_score = torch.zeros((1), dtype=torch.float32)\n",
    "\n",
    "for cls in range(f1_score.shape[0]):\n",
    "    weighted_f1_score += f1_score[cls] * confusion_matrix[cls, cls].float()\n",
    "\n",
    "weighted_f1_score /= confusion_matrix.sum()\n",
    "print(f'Weighted F1 score: {weighted_f1_score.item()}')"
   ]
  }
 ],
 "metadata": {
  "kernelspec": {
   "display_name": "Python 3",
   "language": "python",
   "name": "python3"
  },
  "language_info": {
   "codemirror_mode": {
    "name": "ipython",
    "version": 3
   },
   "file_extension": ".py",
   "mimetype": "text/x-python",
   "name": "python",
   "nbconvert_exporter": "python",
   "pygments_lexer": "ipython3",
   "version": "3.6.9"
  }
 },
 "nbformat": 4,
 "nbformat_minor": 4
}

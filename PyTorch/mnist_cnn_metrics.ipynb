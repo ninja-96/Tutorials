{
 "cells": [
  {
   "cell_type": "code",
   "execution_count": 1,
   "metadata": {},
   "outputs": [],
   "source": [
    "import time\n",
    "import copy\n",
    "import random\n",
    "\n",
    "import torch\n",
    "import torch.nn as nn\n",
    "\n",
    "import torchvision\n",
    "import numpy as np\n",
    "\n",
    "from tqdm import tqdm\n",
    "from sklearn.metrics import accuracy_score, f1_score"
   ]
  },
  {
   "cell_type": "code",
   "execution_count": 2,
   "metadata": {},
   "outputs": [],
   "source": [
    "epochs = 10\n",
    "batch = 16\n",
    "lr = 0.001\n",
    "device = 'cuda' if torch.cuda.is_available() else 'cpu'"
   ]
  },
  {
   "cell_type": "code",
   "execution_count": 3,
   "metadata": {},
   "outputs": [],
   "source": [
    "transform = torchvision.transforms.Compose([\n",
    "    torchvision.transforms.ToTensor()\n",
    "])\n",
    "\n",
    "train_dataset = torchvision.datasets.MNIST('./mnist', train=True, download=True, transform=transform)\n",
    "test_dataset = torchvision.datasets.MNIST('./mnist', train=False, download=True,transform=transform)\n",
    "\n",
    "train_dataloader = torch.utils.data.DataLoader(train_dataset, batch_size=batch, num_workers=4, shuffle=True)\n",
    "test_dataloader = torch.utils.data.DataLoader(test_dataset, batch_size=batch, num_workers=4, shuffle=True)"
   ]
  },
  {
   "cell_type": "code",
   "execution_count": 4,
   "metadata": {},
   "outputs": [],
   "source": [
    "class Net(nn.Module):\n",
    "    def __init__(self):\n",
    "        super().__init__()\n",
    "        \n",
    "        self.conv1 = nn.Conv2d(in_channels=1, out_channels=32, kernel_size=5)\n",
    "        self.conv2 = nn.Conv2d(32, 64, 5)\n",
    "        \n",
    "        self.fc1 = nn.Linear(64, 64)\n",
    "        self.fc2 = nn.Linear(64, 10)\n",
    "        \n",
    "        self.act = nn.ReLU()\n",
    "        self.pool = nn.AdaptiveMaxPool2d(output_size=(1, 1))\n",
    "        \n",
    "    def forward(self, x):\n",
    "        x = self.conv1(x)\n",
    "        x = self.act(x)\n",
    "        \n",
    "        x = self.conv2(x)\n",
    "        x = self.act(x)\n",
    "        \n",
    "        x = self.pool(x)\n",
    "        x = torch.flatten(x, 1)\n",
    "        \n",
    "        x = self.fc1(x)\n",
    "        x = self.act(x)\n",
    "        \n",
    "        x = self.fc2(x)\n",
    "        return x"
   ]
  },
  {
   "cell_type": "code",
   "execution_count": 5,
   "metadata": {},
   "outputs": [],
   "source": [
    "def eval(model, dataloader):\n",
    "    avg_accuracy = 0\n",
    "    avg_f1 = 0\n",
    "    \n",
    "    model.eval()\n",
    "    for imgs, labels in tqdm(dataloader):\n",
    "        imgs = imgs.to(device)\n",
    "\n",
    "        with torch.no_grad():\n",
    "            out = model(imgs)\n",
    "\n",
    "        out = torch.argmax(out, dim=1)\n",
    "        avg_accuracy += accuracy_score(labels.numpy(), out.detach().numpy())\n",
    "        avg_f1 += f1_score(labels.numpy(), out.detach().numpy(), average='macro')\n",
    "\n",
    "    avg_accuracy /= len(test_dataloader)\n",
    "    avg_f1 /= len(test_dataloader)\n",
    "\n",
    "    print(f'Accuracy : {round(avg_accuracy, 3)}')\n",
    "    print(f'F1 : {round(avg_f1, 3)}')"
   ]
  },
  {
   "cell_type": "code",
   "execution_count": 6,
   "metadata": {},
   "outputs": [],
   "source": [
    "def train(model, optimizer, criteria, dataloader, epochs):\n",
    "    for e in range(epochs):\n",
    "        desc = f'Epoch: {e+1}/{epochs}'\n",
    "        avg_loss = 0\n",
    "        \n",
    "        model.train()\n",
    "        for imgs, labels in tqdm(dataloader, desc=desc): \n",
    "            imgs = imgs.to(device)\n",
    "            labels = labels.to(device)\n",
    "\n",
    "            optimizer.zero_grad() \n",
    "            output = model(imgs)\n",
    "\n",
    "            loss = criteria(output, labels)\n",
    "            avg_loss += loss.item()\n",
    "\n",
    "            loss.backward()\n",
    "            optimizer.step()\n",
    "\n",
    "        avg_loss /= len(train_dataloader)\n",
    "        print('Loss', round(avg_loss, 3))"
   ]
  },
  {
   "cell_type": "code",
   "execution_count": 7,
   "metadata": {},
   "outputs": [
    {
     "name": "stderr",
     "output_type": "stream",
     "text": [
      "Epoch: 1/1: 100%|██████████| 3750/3750 [04:26<00:00, 14.05it/s]\n",
      "  0%|          | 0/625 [00:00<?, ?it/s]"
     ]
    },
    {
     "name": "stdout",
     "output_type": "stream",
     "text": [
      "Loss 0.261\n"
     ]
    },
    {
     "name": "stderr",
     "output_type": "stream",
     "text": [
      "100%|██████████| 625/625 [00:13<00:00, 47.72it/s]"
     ]
    },
    {
     "name": "stdout",
     "output_type": "stream",
     "text": [
      "Accuracy : 0.976\n",
      "F1 : 0.961\n"
     ]
    },
    {
     "name": "stderr",
     "output_type": "stream",
     "text": [
      "\n"
     ]
    }
   ],
   "source": [
    "model = Net().to(device)\n",
    "optimizer = torch.optim.Adam(model.parameters(), lr=lr)\n",
    "criteria = torch.nn.CrossEntropyLoss()\n",
    "    \n",
    "train(model, optimizer, criteria, train_dataloader, 1)\n",
    "eval(model, test_dataloader)"
   ]
  },
  {
   "cell_type": "code",
   "execution_count": 21,
   "metadata": {},
   "outputs": [
    {
     "name": "stdout",
     "output_type": "stream",
     "text": [
      "Item 9553\n",
      "Predict : 9. Real : 9\n"
     ]
    },
    {
     "data": {
      "image/png": "[encoded data removed]",
      "text/plain": [
       "<PIL.Image.Image image mode=L size=28x28 at 0x136062BB0>"
      ]
     },
     "execution_count": 21,
     "metadata": {},
     "output_type": "execute_result"
    }
   ],
   "source": [
    "i = random.randint(0, len(test_dataset))\n",
    "print('Item', i)\n",
    "\n",
    "img, label = test_dataset[i]\n",
    "out = model(img.unsqueeze(0).to(device))\n",
    "out = torch.argmax(out, dim=1)\n",
    "\n",
    "print(f'Predict : {out.item()}. Real : {label}')\n",
    "\n",
    "torchvision.transforms.ToPILImage()(img)"
   ]
  }
 ],
 "metadata": {
  "kernelspec": {
   "display_name": "Python 3",
   "language": "python",
   "name": "python3"
  },
  "language_info": {
   "codemirror_mode": {
    "name": "ipython",
    "version": 3
   },
   "file_extension": ".py",
   "mimetype": "text/x-python",
   "name": "python",
   "nbconvert_exporter": "python",
   "pygments_lexer": "ipython3",
   "version": "3.8.2"
  }
 },
 "nbformat": 4,
 "nbformat_minor": 4
}

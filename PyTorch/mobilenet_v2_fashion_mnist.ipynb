{
 "cells": [
  {
   "cell_type": "code",
   "execution_count": null,
   "metadata": {},
   "outputs": [],
   "source": [
    "import time\n",
    "import copy\n",
    "import random\n",
    "\n",
    "import torch\n",
    "import torch.nn as nn\n",
    "\n",
    "import torchvision\n",
    "\n",
    "from tqdm import tqdm\n",
    "from sklearn.metrics import accuracy_score, f1_score"
   ]
  },
  {
   "cell_type": "code",
   "execution_count": null,
   "metadata": {},
   "outputs": [],
   "source": [
    "epochs = 10\n",
    "batch = 16\n",
    "lr = 0.001\n",
    "nc = 10\n",
    "device = 'cuda' if torch.cuda.is_available() else 'cpu'"
   ]
  },
  {
   "cell_type": "code",
   "execution_count": null,
   "metadata": {},
   "outputs": [],
   "source": [
    "transform = torchvision.transforms.Compose([\n",
    "    torchvision.transforms.ToTensor(), \n",
    "])\n",
    "\n",
    "train_dataset = torchvision.datasets.FashionMNIST('./fashion_mnist', train=True, download=True, transform=transform)\n",
    "test_dataset = torchvision.datasets.FashionMNIST('./fashion_mnist', train=False, download=True,transform=transform)\n",
    "\n",
    "train_dataloader = torch.utils.data.DataLoader(train_dataset, batch_size=batch, num_workers=4, shuffle=True)\n",
    "test_dataloader = torch.utils.data.DataLoader(test_dataset, batch_size=batch, num_workers=4, shuffle=True)"
   ]
  },
  {
   "cell_type": "code",
   "execution_count": null,
   "metadata": {},
   "outputs": [],
   "source": [
    "train_dataset[0][0].shape"
   ]
  },
  {
   "cell_type": "code",
   "execution_count": null,
   "metadata": {},
   "outputs": [],
   "source": [
    "def train(model, optimizer, criteria, dataloader, epochs):\n",
    "    for e in range(epochs):\n",
    "        desc = f'Epoch: {e+1}/{epochs}'\n",
    "        avg_loss = 0\n",
    "        \n",
    "        model.train()\n",
    "        for imgs, labels in tqdm(dataloader, desc=desc): \n",
    "            imgs = imgs.to(device).repeat(1, 3, 1, 1)\n",
    "            labels = labels.to(device)\n",
    "\n",
    "            optimizer.zero_grad() \n",
    "            output = model(imgs)\n",
    "\n",
    "            loss = criteria(output, labels)\n",
    "            avg_loss += loss.item()\n",
    "\n",
    "            loss.backward()\n",
    "            optimizer.step()\n",
    "\n",
    "        avg_loss /= len(train_dataloader)\n",
    "        print('Loss', round(avg_loss, 3))"
   ]
  },
  {
   "cell_type": "code",
   "execution_count": null,
   "metadata": {},
   "outputs": [],
   "source": [
    "def eval(model, dataloader):\n",
    "    avg_accuracy = 0\n",
    "    avg_f1 = 0\n",
    "    \n",
    "    model.eval()\n",
    "    for imgs, labels in tqdm(dataloader):\n",
    "        imgs = imgs.to(device).repeat(1, 3, 1, 1)\n",
    "\n",
    "        with torch.no_grad():\n",
    "            out = model(imgs)\n",
    "\n",
    "        out = torch.argmax(out, dim=1)\n",
    "        avg_accuracy += accuracy_score(labels.numpy(), out.detach().numpy())\n",
    "        avg_f1 += f1_score(labels.numpy(), out.detach().numpy(), average='macro')\n",
    "\n",
    "    avg_accuracy /= len(test_dataloader)\n",
    "    avg_f1 /= len(test_dataloader)\n",
    "\n",
    "    print(f'Accuracy : {round(avg_accuracy, 3)}')\n",
    "    print(f'F1 : {round(avg_f1, 3)}')"
   ]
  },
  {
   "cell_type": "code",
   "execution_count": null,
   "metadata": {},
   "outputs": [],
   "source": [
    "model = torchvision.models.mobilenet_v2(num_classes=nc).to(device)\n",
    "optimizer = torch.optim.Adam(model.parameters(), lr=lr)\n",
    "criteria = torch.nn.CrossEntropyLoss()\n",
    "    \n",
    "train(model, optimizer, criteria, train_dataloader, epochs)\n",
    "eval(model, test_dataloader)"
   ]
  },
  {
   "cell_type": "code",
   "execution_count": null,
   "metadata": {},
   "outputs": [],
   "source": [
    "i = random.randint(0, len(test_dataset))\n",
    "print('Item', i)\n",
    "\n",
    "img, label = test_dataset[i]\n",
    "out = model(img.unsqueeze(0).to(device))\n",
    "out = torch.argmax(out, dim=1)\n",
    "\n",
    "print(f'Predict : {out.item()}. Real : {label}')\n",
    "\n",
    "torchvision.transforms.ToPILImage()(img)"
   ]
  }
 ],
 "metadata": {
  "kernelspec": {
   "display_name": "Python 3",
   "language": "python",
   "name": "python3"
  },
  "language_info": {
   "codemirror_mode": {
    "name": "ipython",
    "version": 3
   },
   "file_extension": ".py",
   "mimetype": "text/x-python",
   "name": "python",
   "nbconvert_exporter": "python",
   "pygments_lexer": "ipython3",
   "version": "3.8.2"
  }
 },
 "nbformat": 4,
 "nbformat_minor": 4
}

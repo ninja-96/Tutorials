{
 "cells": [
  {
   "cell_type": "code",
   "execution_count": null,
   "metadata": {},
   "outputs": [],
   "source": [
    "import os\n",
    "import glob\n",
    "import time\n",
    "import random\n",
    "\n",
    "import torch\n",
    "import torchvision\n",
    "\n",
    "import numpy as np\n",
    "import cv2\n",
    "from PIL import Image\n",
    "from tqdm import tqdm\n",
    "import matplotlib.pyplot as plt\n",
    "\n",
    "import torch2trt"
   ]
  },
  {
   "cell_type": "code",
   "execution_count": null,
   "metadata": {},
   "outputs": [],
   "source": [
    "LABELS = ['Cat', 'Dog']\n",
    "\n",
    "if torch.cuda.is_available():\n",
    "    TARGET = 'cuda'\n",
    "else:\n",
    "    TARGET = 'cpu'"
   ]
  },
  {
   "cell_type": "code",
   "execution_count": null,
   "metadata": {},
   "outputs": [],
   "source": [
    "class CatDog():\n",
    "    def __init__(self, path):\n",
    "        self.img_size = 100\n",
    "    \n",
    "        self.train_data = []\n",
    "        self.cat_path = os.path.normpath(path) + '/Cat'\n",
    "        self.dog_path = os.path.normpath(path) + '/Dog'\n",
    "        \n",
    "        self.labels = {self.cat_path: 0, self.dog_path: 1}\n",
    "    \n",
    "    def get_train_data(self):\n",
    "        for label in self.labels:\n",
    "            images_path = glob.glob(label + '/*.jpg')\n",
    "            images_path.sort()\n",
    "            \n",
    "            for image_path in tqdm(images_path):\n",
    "                try:\n",
    "                    img = cv2.imread(image_path)\n",
    "                    img = cv2.resize(img, (self.img_size, self.img_size))\n",
    "                    \n",
    "                    img = Image.fromarray(img)\n",
    "                    img = torchvision.transforms.ToTensor()(img)\n",
    "                    \n",
    "                    ans = np.eye(2)[self.labels[label]]\n",
    "                    ans = torch.tensor(ans, dtype=torch.float32)\n",
    "                    \n",
    "                    self.train_data.append([img, ans])\n",
    "                except:\n",
    "                    pass\n",
    "        \n",
    "        return self.train_data\n",
    "\n",
    "class CatDogDataset(torch.utils.data.Dataset):\n",
    "    def __init__(self, data):\n",
    "        self.__data = data\n",
    "        \n",
    "    def __getitem__(self, index):\n",
    "        return (self.__data[index][0], self.__data[index][1])\n",
    "    \n",
    "    def __len__(self):\n",
    "        return len(self.__data)"
   ]
  },
  {
   "cell_type": "code",
   "execution_count": null,
   "metadata": {},
   "outputs": [],
   "source": [
    "cat_dog = CatDog(path='PetImages/')\n",
    "cat_dog_dataset = cat_dog.get_train_data()\n",
    "\n",
    "np.random.shuffle(cat_dog_dataset)\n",
    "print('Dataset length', len(cat_dog_dataset))\n",
    "\n",
    "cat_dog_test = cat_dog_dataset[int(len(cat_dog_dataset) * 0.8):]\n",
    "\n",
    "print('Test length', len(cat_dog_test))\n",
    "\n",
    "test = CatDogDataset(cat_dog_test)"
   ]
  },
  {
   "cell_type": "code",
   "execution_count": null,
   "metadata": {},
   "outputs": [],
   "source": [
    "net = torchvision.models.resnet18(pretrained=False, num_classes=2).to(TARGET)\n",
    "net.load_state_dict(torch.load('resnet18_adv_loss.pt'))"
   ]
  },
  {
   "cell_type": "code",
   "execution_count": null,
   "metadata": {},
   "outputs": [],
   "source": [
    "i = random.randint(0, len(test) - 1)\n",
    "print('Item', i)\n",
    "\n",
    "start = time.time()\n",
    "net_result = net(test[i][0].unsqueeze(0).to(TARGET))\n",
    "print('Compute time:', time.time() - start)\n",
    "\n",
    "real = test[i][1]\n",
    "\n",
    "p = np.argmax(net_result.cpu().detach().numpy())\n",
    "r = np.argmax(real.detach().numpy())\n",
    "\n",
    "print('Predict:', LABELS[p])\n",
    "print('Real:', LABELS[r])\n",
    "\n",
    "img = np.array(test[i][0].permute(1, 2, 0))\n",
    "img = img[:, :, ::-1].copy()\n",
    "plt.imshow(img)\n",
    "plt.show()"
   ]
  },
  {
   "cell_type": "code",
   "execution_count": null,
   "metadata": {},
   "outputs": [],
   "source": [
    "x = torch.zeros((1, 3, 100, 100)).to(TARGET)\n",
    "\n",
    "trt_net = torch2trt.torch2trt(net, [x])"
   ]
  },
  {
   "cell_type": "code",
   "execution_count": null,
   "metadata": {},
   "outputs": [],
   "source": [
    "i = random.randint(0, len(test) - 1)\n",
    "print('Item', i)\n",
    "\n",
    "start = time.time()\n",
    "net_result = trt_net(test[i][0].unsqueeze(0).to(TARGET))\n",
    "print('Compute time:', time.time() - start)\n",
    "\n",
    "real = test[i][1]\n",
    "\n",
    "p = np.argmax(net_result.cpu().detach().numpy())\n",
    "r = np.argmax(real.detach().numpy())\n",
    "\n",
    "print('Predict:', LABELS[p])\n",
    "print('Real:', LABELS[r])\n",
    "\n",
    "img = np.array(test[i][0].permute(1, 2, 0))\n",
    "img = img[:, :, ::-1].copy()\n",
    "plt.imshow(img)\n",
    "plt.show()"
   ]
  },
  {
   "cell_type": "code",
   "execution_count": null,
   "metadata": {},
   "outputs": [],
   "source": [
    "torch.save(trt_net.state_dict(), 'resnet18_trt.pt')"
   ]
  }
 ],
 "metadata": {
  "kernelspec": {
   "display_name": "Python 3",
   "language": "python",
   "name": "python3"
  },
  "language_info": {
   "codemirror_mode": {
    "name": "ipython",
    "version": 3
   },
   "file_extension": ".py",
   "mimetype": "text/x-python",
   "name": "python",
   "nbconvert_exporter": "python",
   "pygments_lexer": "ipython3",
   "version": "3.6.9"
  }
 },
 "nbformat": 4,
 "nbformat_minor": 4
}

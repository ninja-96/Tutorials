{
 "cells": [
  {
   "cell_type": "code",
   "execution_count": null,
   "metadata": {
    "colab": {},
    "colab_type": "code",
    "id": "Pi_R1z7xEsi9"
   },
   "outputs": [],
   "source": [
    "import copy\n",
    "import os\n",
    "import time\n",
    "import random\n",
    "\n",
    "import torch\n",
    "import torch.nn as nn\n",
    "import torch.nn.functional as F\n",
    "import torch.optim as optim\n",
    "import torch.autograd as autograd\n",
    "\n",
    "from tqdm import tqdm\n",
    "import cv2\n",
    "import glob\n",
    "import numpy as np\n",
    "from matplotlib import pyplot as plt"
   ]
  },
  {
   "cell_type": "code",
   "execution_count": null,
   "metadata": {
    "colab": {},
    "colab_type": "code",
    "id": "PWG_VMlAEsjL"
   },
   "outputs": [],
   "source": [
    "WINDOW = 12\n",
    "W_STRIDE = 1\n",
    "\n",
    "EPOCHS = 16\n",
    "BATCH_SIZE = 16\n",
    "LR = 0.001\n",
    "\n",
    "if torch.cuda.is_available():\n",
    "    TARGET = 'cuda'\n",
    "else:\n",
    "    TARGET = 'cpu'"
   ]
  },
  {
   "cell_type": "code",
   "execution_count": null,
   "metadata": {
    "colab": {},
    "colab_type": "code",
    "id": "16-663RuEsjX",
    "outputId": "22bf2209-710c-4f68-f3c4-84224238c6a5"
   },
   "outputs": [],
   "source": [
    "file = open('AAPL.csv', 'r')\n",
    "lines = file.read()\n",
    "lines = lines.split('\\n')\n",
    "del lines[0]\n",
    "\n",
    "def min_max_normilize(data):\n",
    "    data_opt = np.zeros(shape=data.shape, dtype=np.float32)\n",
    "\n",
    "    data_min = min(data)\n",
    "    data_max = max(data)\n",
    "    \n",
    "    for i in range(len(data)):\n",
    "        data_opt[i] = float((data[i] - data_min) / (data_max - data_min))\n",
    "\n",
    "    return data_opt\n",
    "\n",
    "data = []\n",
    "\n",
    "for i in range(len(lines) - 1):\n",
    "    tmp = lines[i].split(',')\n",
    "    data.append(float(tmp[5]))\n",
    "\n",
    "data_original = np.array(data, dtype=np.float32)\n",
    "data_original = min_max_normilize(data_original)"
   ]
  },
  {
   "cell_type": "code",
   "execution_count": null,
   "metadata": {
    "colab": {},
    "colab_type": "code",
    "id": "s0c-DoXREsjo"
   },
   "outputs": [],
   "source": [
    "def generate_data(f_data, window_size, stride):\n",
    "    data = []\n",
    "    pos = 0\n",
    "    \n",
    "    while (pos + window_size) < f_data.shape[0]:\n",
    "        tmp = []\n",
    "        for i in range(window_size):\n",
    "            tmp.append(f_data[pos + i])\n",
    "        \n",
    "        data.append(tmp)\n",
    "        pos += stride\n",
    "    \n",
    "    return data\n",
    "\n",
    "def split_data(f_data, answer):\n",
    "    data = []\n",
    "    \n",
    "    for d in f_data:\n",
    "        tmp = np.array(d[:len(d)-answer])\n",
    "        tmp = np.expand_dims(tmp, 1)\n",
    "        x_train = torch.tensor(tmp, dtype=torch.float32)\n",
    "        y_train = torch.tensor(d[len(d)-answer:], dtype=torch.float32)\n",
    "        \n",
    "        data.append([x_train, y_train])\n",
    "    \n",
    "    return data\n",
    "\n",
    "\n",
    "data = generate_data(data_original, WINDOW + 1, W_STRIDE)\n",
    "data = split_data(data, 1)"
   ]
  },
  {
   "cell_type": "code",
   "execution_count": null,
   "metadata": {
    "colab": {},
    "colab_type": "code",
    "id": "eqmM8LtkEsj2",
    "outputId": "1f9f8142-8853-476e-945e-99fe87a59bfd"
   },
   "outputs": [],
   "source": [
    "class RNN_Net(nn.Module):\n",
    "    def __init__(self):\n",
    "        super().__init__()\n",
    "        \n",
    "        self.rnn1 = nn.RNN(input_size=1, hidden_size=32, batch_first=True, nonlinearity='relu')\n",
    "        self.rnn2 = nn.RNN(input_size=32, hidden_size=32, batch_first=True, nonlinearity='relu')\n",
    "        self.rnn3 = nn.RNN(input_size=32, hidden_size=32, batch_first=True, nonlinearity='relu')\n",
    "        self.lr1 = nn.Linear(32, 1)\n",
    "        \n",
    "    def forward(self, x, rnn1_h, rnn2_h, rnn3_h):\n",
    "        x, h = self.rnn1(x, rnn1_h)\n",
    "        x = F.leaky_relu(x)\n",
    "        \n",
    "        x, h = self.rnn2(x, rnn2_h)\n",
    "        x = F.leaky_relu(x)\n",
    "\n",
    "        x = x[:, 11, ...] # return only vector\n",
    "        \n",
    "        x = self.repeat_tensor(x, 1)\n",
    "        \n",
    "        x, h = self.rnn3(x, rnn3_h)\n",
    "        x = F.relu(x)\n",
    "\n",
    "        x = self.lr1(x)\n",
    "\n",
    "        return x\n",
    "    \n",
    "    def repeat_tensor(self, tensor, num):\n",
    "        return tensor.repeat(1, num).view(tensor.shape[0], num, tensor.shape[1])\n",
    "\n",
    "print(RNN_Net())"
   ]
  },
  {
   "cell_type": "code",
   "execution_count": null,
   "metadata": {
    "colab": {},
    "colab_type": "code",
    "id": "q4kk5j_9Esj7"
   },
   "outputs": [],
   "source": [
    "class RNN_Dataset(torch.utils.data.Dataset):\n",
    "    def __init__(self, data):\n",
    "        self.__data = data\n",
    "        \n",
    "    def __getitem__(self, index):\n",
    "        return (self.__data[index][0], self.__data[index][1])\n",
    "    \n",
    "    def __len__(self):\n",
    "        return len(self.__data)\n",
    "\n",
    "data_set = RNN_Dataset(data)\n",
    "data_loader = torch.utils.data.DataLoader(data_set, batch_size=BATCH_SIZE, num_workers=4, shuffle=True)"
   ]
  },
  {
   "cell_type": "code",
   "execution_count": null,
   "metadata": {
    "colab": {},
    "colab_type": "code",
    "id": "bFlbWTQPEskB",
    "outputId": "0dea3bc5-afbd-485c-c949-ea1722b9713e"
   },
   "outputs": [],
   "source": [
    "net = RNN_Net().to(TARGET)\n",
    "optimizer = optim.Adam(net.parameters(), lr=0.0001)\n",
    "loss_function = nn.SmoothL1Loss()\n",
    "\n",
    "best_net = RNN_Net().to(TARGET)\n",
    "best_loss = 10e10\n",
    "\n",
    "for e in range(EPOCHS):\n",
    "    time.sleep(1)\n",
    "    \n",
    "    for data_l in tqdm(data_loader, desc=\"Epoch %d\" % (e + 1)):\n",
    "        x, y = data_l\n",
    "        \n",
    "        x = x.to(device)\n",
    "        y = y.to(device)\n",
    "    \n",
    "        net.zero_grad()\n",
    "        \n",
    "        rnn1_h = torch.randn(size=(1, x.shape[0], 32)).to(device)\n",
    "        rnn2_h = torch.randn(size=(1, x.shape[0], 32)).to(device)\n",
    "        rnn3_h = torch.randn(size=(1, x.shape[0], 32)).to(device)\n",
    "    \n",
    "        output = net(x, rnn1_h, rnn2_h, rnn3_h)\n",
    "        \n",
    "        loss = loss_function(output, y)\n",
    "        loss.backward()\n",
    "        optimizer.step()\n",
    "        \n",
    "    print('Loss', loss.item())\n",
    "    \n",
    "    if loss < best_loss:\n",
    "        best_loss = loss\n",
    "        best_net = copy.copy(net)\n",
    "        \n",
    "time.sleep(0.1)\n",
    "print('Best loss', best_loss.item())"
   ]
  },
  {
   "cell_type": "code",
   "execution_count": null,
   "metadata": {
    "colab": {},
    "colab_type": "code",
    "id": "pRjzRq5bEskH",
    "outputId": "a39d0f0d-4ec2-40c3-fc0d-6e9971b2f2f8"
   },
   "outputs": [],
   "source": [
    "i = random.randint(0, 1000)\n",
    "\n",
    "test = torch.tensor(data[i][0], dtype=torch.float32)\n",
    "test = test.unsqueeze(0)\n",
    "test = test.to(device)\n",
    "\n",
    "print(test.shape)\n",
    "rnn1_h = torch.zeros(size=(1, 1, 32)).to(device)\n",
    "rnn2_h = torch.zeros(size=(1, 1, 32)).to(device)\n",
    "rnn3_h = torch.zeros(size=(1, 1, 32)).to(device)\n",
    "\n",
    "print(best_net(test, rnn1_h, rnn2_h, rnn3_h))\n",
    "print(data[i][1])"
   ]
  }
 ],
 "metadata": {
  "colab": {
   "name": "pytorch_rnn_gpu.ipynb",
   "provenance": []
  },
  "kernelspec": {
   "display_name": "Python 3",
   "language": "python",
   "name": "python3"
  },
  "language_info": {
   "codemirror_mode": {
    "name": "ipython",
    "version": 3
   },
   "file_extension": ".py",
   "mimetype": "text/x-python",
   "name": "python",
   "nbconvert_exporter": "python",
   "pygments_lexer": "ipython3",
   "version": "3.6.9"
  }
 },
 "nbformat": 4,
 "nbformat_minor": 4
}
